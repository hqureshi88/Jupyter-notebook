{
 "cells": [
  {
   "cell_type": "markdown",
   "source": [
    "___\n",
    "\n",
    "<a href='https://www.udemy.com/user/joseportilla/'><img src='../Pierian_Data_Logo.png'/></a>\n",
    "___\n",
    "<center><em>Content Copyright by Pierian Data</em></center>"
   ],
   "metadata": {}
  },
  {
   "cell_type": "markdown",
   "source": [
    "# Milestone Project 1: Walkthrough Steps Workbook\n",
    "\n",
    "Below is a set of steps for you to follow to try to create the Tic Tac Toe Milestone Project game!"
   ],
   "metadata": {}
  },
  {
   "cell_type": "markdown",
   "source": [
    "#### Some suggested tools before you get started:\n",
    "To take input from a user:\n",
    "\n",
    "    player1 = input(\"Please pick a marker 'X' or 'O'\")\n",
    "    \n",
    "Note that input() takes in a string. If you need an integer value, use\n",
    "\n",
    "    position = int(input('Please enter a number'))\n",
    "    \n",
    "<br>To clear the screen between moves:\n",
    "\n",
    "    from IPython.display import clear_output\n",
    "    clear_output()\n",
    "    \n",
    "Note that clear_output() will only work in jupyter. To clear the screen in other IDEs, consider:\n",
    "\n",
    "    print('\\n'*100)\n",
    "    \n",
    "This scrolls the previous board up out of view. Now on to the program!"
   ],
   "metadata": {}
  },
  {
   "cell_type": "markdown",
   "source": [
    "**Step 1: Write a function that can print out a board. Set up your board as a list, where each index 1-9 corresponds with a number on a number pad, so you get a 3 by 3 board representation.**"
   ],
   "metadata": {}
  },
  {
   "cell_type": "code",
   "execution_count": 1,
   "source": [
    "from IPython.display import clear_output\n",
    "\n",
    "def display_board(board):\n",
    "    print('   |   |   ')\n",
    "    print(' '+board[1]+' | '+ board[2]+' | '+ board[3]+' ')\n",
    "    print('   |   |   ')\n",
    "    print(\"-----------\")\n",
    "    print('   |   |   ')\n",
    "    print(' '+board[4]+' | '+ board[5]+' | '+ board[6]+' ')\n",
    "    print('   |   |   ')\n",
    "    print(\"-----------\")\n",
    "    print('   |   |   ')\n",
    "    print(' '+board[7]+' | '+ board[8]+' | '+ board[9]+' ')\n",
    "    print('   |   |   ')"
   ],
   "outputs": [],
   "metadata": {}
  },
  {
   "cell_type": "markdown",
   "source": [
    "**TEST Step 1:** run your function on a test version of the board list, and make adjustments as necessary"
   ],
   "metadata": {}
  },
  {
   "cell_type": "code",
   "execution_count": 2,
   "source": [
    "test_board = ['#','X','O','X','O','X','O','X','O','X']\n",
    "display_board(test_board)"
   ],
   "outputs": [
    {
     "output_type": "stream",
     "name": "stdout",
     "text": [
      "   |   |   \n",
      " X | O | X \n",
      "   |   |   \n",
      "-----------\n",
      "   |   |   \n",
      " O | X | O \n",
      "   |   |   \n",
      "-----------\n",
      "   |   |   \n",
      " X | O | X \n",
      "   |   |   \n"
     ]
    }
   ],
   "metadata": {}
  },
  {
   "cell_type": "markdown",
   "source": [
    "**Step 2: Write a function that can take in a player input and assign their marker as 'X' or 'O'. Think about using *while* loops to continually ask until you get a correct answer.**"
   ],
   "metadata": {}
  },
  {
   "cell_type": "code",
   "execution_count": 3,
   "source": [
    "def player_input():\n",
    "    \n",
    "    choice = \"WRONG\"\n",
    "    within_range = False\n",
    "    \n",
    "    while choice.isdigit() == False or within_range == False:\n",
    "        choice = input(\"Please select your position range(1-9):\")\n",
    "        if not choice.isdigit():\n",
    "            clear_output()\n",
    "            print(\"Sorry, not a digit number!\")\n",
    "        \n",
    "        if choice.isdigit():\n",
    "            if int(choice) in range(1,10):\n",
    "                within_range = True\n",
    "            else:\n",
    "                clear_output()\n",
    "                within_range = False\n",
    "                \n",
    "    return int(choice)\n",
    "    "
   ],
   "outputs": [],
   "metadata": {}
  },
  {
   "cell_type": "markdown",
   "source": [
    "**TEST Step 2:** run the function to make sure it returns the desired output"
   ],
   "metadata": {}
  },
  {
   "cell_type": "code",
   "execution_count": 4,
   "source": [
    "# player_input()"
   ],
   "outputs": [],
   "metadata": {}
  },
  {
   "cell_type": "markdown",
   "source": [
    "**Step 3: Write a function that takes in the board list object, a marker ('X' or 'O'), and a desired position (number 1-9) and assigns it to the board.**"
   ],
   "metadata": {}
  },
  {
   "cell_type": "code",
   "execution_count": 5,
   "source": [
    "def place_marker(board, marker, position):\n",
    "    board[position] = marker\n",
    "    return\n",
    "    \n",
    "    "
   ],
   "outputs": [],
   "metadata": {}
  },
  {
   "cell_type": "markdown",
   "source": [
    "**TEST Step 3:** run the place marker function using test parameters and display the modified board"
   ],
   "metadata": {}
  },
  {
   "cell_type": "code",
   "execution_count": 6,
   "source": [
    "# place_marker(test_board,'$',8)\n",
    "# display_board(test_board)"
   ],
   "outputs": [],
   "metadata": {}
  },
  {
   "cell_type": "markdown",
   "source": [
    "**Step 4: Write a function that takes in a board and a mark (X or O) and then checks to see if that mark has won. **"
   ],
   "metadata": {}
  },
  {
   "cell_type": "code",
   "execution_count": 7,
   "source": [
    "def win_check(board, mark):\n",
    "    \n",
    "    match_cols_one = 0\n",
    "    match_cols_two = 0\n",
    "    match_cols_three = 0\n",
    "    \n",
    "    match_rows_one = 0\n",
    "    match_rows_two = 0\n",
    "    match_rows_three = 0\n",
    "\n",
    "    match_dia_L = 0\n",
    "    match_dia_R = 0\n",
    "    \n",
    "\n",
    "    for i in board[1:4]:\n",
    "        if i == mark:\n",
    "            match_rows_one += 1\n",
    "                    \n",
    "    for i in board[4:7]:\n",
    "        if i == mark:\n",
    "            match_rows_two += 1\n",
    "\n",
    "    for i in board[7:10]:\n",
    "        if i == mark:\n",
    "            match_rows_three += 1                 \n",
    "\n",
    "    for i in board[1::3]:\n",
    "        if i == mark:\n",
    "            match_cols_one += 1\n",
    "\n",
    "    for i in board[2::3]:\n",
    "        if i == mark:\n",
    "            match_cols_two += 1\n",
    "\n",
    "    for i in board[3::3]:\n",
    "        if i == mark:\n",
    "            match_cols_three += 1\n",
    "\n",
    "    for i in board[1::4]:\n",
    "        if i == mark:\n",
    "            match_dia_L += 1\n",
    "\n",
    "    for i in board[3:7:2]:\n",
    "        if i == mark:\n",
    "            match_dia_R += 1\n",
    "                \n",
    "    if match_cols_one == 3 or match_cols_two == 3 or match_cols_three == 3 or match_dia_L == 3 or match_dia_R == 3 or match_rows_one == 3 or match_rows_two == 3 or match_rows_three == 3:\n",
    "       \n",
    "        return True\n",
    "    else:\n",
    "        return False\n",
    "\n",
    "    "
   ],
   "outputs": [],
   "metadata": {}
  },
  {
   "cell_type": "markdown",
   "source": [
    "**TEST Step 4:** run the win_check function against our test_board - it should return True"
   ],
   "metadata": {}
  },
  {
   "cell_type": "code",
   "execution_count": 8,
   "source": [
    "board_ref = ['#','X',' ',' ','X','O',' ','O','X','O']\n",
    "win_check(board_ref,'O')"
   ],
   "outputs": [
    {
     "output_type": "execute_result",
     "data": {
      "text/plain": [
       "False"
      ]
     },
     "metadata": {},
     "execution_count": 8
    }
   ],
   "metadata": {}
  },
  {
   "cell_type": "markdown",
   "source": [
    "**Step 5: Write a function that uses the random module to randomly decide which player goes first. You may want to lookup random.randint() Return a string of which player went first.**"
   ],
   "metadata": {}
  },
  {
   "cell_type": "code",
   "execution_count": 9,
   "source": [
    "import random\n",
    "\n",
    "def choose_first():\n",
    "    player = ['player1', 'player2']\n",
    "    return random.choice(player)"
   ],
   "outputs": [],
   "metadata": {}
  },
  {
   "cell_type": "markdown",
   "source": [
    "**Step 6: Write a function that returns a boolean indicating whether a space on the board is freely available.**"
   ],
   "metadata": {}
  },
  {
   "cell_type": "code",
   "execution_count": 10,
   "source": [
    "def space_check(board, position):\n",
    "    if board[position] == \" \":\n",
    "        return True\n",
    "    else:\n",
    "        return False\n",
    "    "
   ],
   "outputs": [],
   "metadata": {}
  },
  {
   "cell_type": "markdown",
   "source": [
    "**Step 7: Write a function that checks if the board is full and returns a boolean value. True if full, False otherwise.**"
   ],
   "metadata": {}
  },
  {
   "cell_type": "code",
   "execution_count": 11,
   "source": [
    "def full_board_check(board):\n",
    "    if \" \" in board:\n",
    "        return True\n",
    "    else:\n",
    "        return False\n",
    "    "
   ],
   "outputs": [],
   "metadata": {}
  },
  {
   "cell_type": "code",
   "execution_count": 12,
   "source": [
    "# board_ref = ['#',' ',' ',' ',' ',' ',' ',' ',' ',' ']\n",
    "# print(full_board_check(board_ref))"
   ],
   "outputs": [],
   "metadata": {}
  },
  {
   "cell_type": "markdown",
   "source": [
    "**Step 8: Write a function that asks for a player's next position (as a number 1-9) and then uses the function from step 6 to check if it's a free position. If it is, then return the position for later use.**"
   ],
   "metadata": {}
  },
  {
   "cell_type": "code",
   "execution_count": 13,
   "source": [
    "def player_choice(board):\n",
    "    \n",
    "    pos_available = False\n",
    "    \n",
    "    while pos_available == False:\n",
    "        players_pos = player_input()\n",
    "        check = space_check(board, players_pos)\n",
    "        if check:\n",
    "            clear_output()\n",
    "            pos_available = True\n",
    "            \n",
    "            return players_pos\n",
    "        else:\n",
    "            clear_output()\n",
    "            print(\"no space available, choose another\")"
   ],
   "outputs": [],
   "metadata": {}
  },
  {
   "cell_type": "code",
   "execution_count": 14,
   "source": [
    "# player_choice(test_board)"
   ],
   "outputs": [],
   "metadata": {}
  },
  {
   "cell_type": "markdown",
   "source": [
    "**Step 9: Write a function that asks the player if they want to play again and returns a boolean True if they do want to play again.**"
   ],
   "metadata": {}
  },
  {
   "cell_type": "code",
   "execution_count": 15,
   "source": [
    "def replay():\n",
    "    choice = \"WRONG\"\n",
    "    response = ['Y', 'N']\n",
    "    \n",
    "    while choice not in response:\n",
    "        choice = input(\"Do you want to play again? \")\n",
    "        if choice not in response:\n",
    "            clear_output()\n",
    "            print ('Incorrect, please enter correct response!')\n",
    "        elif choice == 'Y':\n",
    "            return True\n",
    "        else:\n",
    "            return False"
   ],
   "outputs": [],
   "metadata": {}
  },
  {
   "cell_type": "code",
   "execution_count": 16,
   "source": [
    "# replay()"
   ],
   "outputs": [],
   "metadata": {}
  },
  {
   "cell_type": "markdown",
   "source": [
    "**Step 10: Here comes the hard part! Use while loops and the functions you've made to run the game!**"
   ],
   "metadata": {
    "collapsed": true
   }
  },
  {
   "cell_type": "code",
   "execution_count": 17,
   "source": [
    "print('Welcome to Tic Tac Toe!')\n",
    "\n",
    "\n",
    "game_on = True\n",
    "# p1ayers_turn = -1\n",
    "player1 = ''\n",
    "player2 = ''\n",
    "action_play = -1\n",
    "\n",
    "while True:\n",
    "#     Set the game up here\n",
    "    board_ref = ['#',' ',' ',' ',' ',' ',' ',' ',' ',' ']\n",
    "    clear_output()\n",
    "    player_option = choose_first()\n",
    "    \n",
    "    if player_option == 'player1':\n",
    "        print('Player 1 starts')\n",
    "        player1 = input(\"Please pick a marker 'X' or 'O':\")\n",
    "        \n",
    "        if player1 == 'X':\n",
    "            player2 = 'O'\n",
    "        else:\n",
    "            player2 = 'X'\n",
    "        \n",
    "    elif player_option == 'player2':\n",
    "        print('Player 2 starts')\n",
    "        player2 = input(\"Please pick a marker 'X' or 'O':\")\n",
    "        if player2 == 'X':\n",
    "            player1 = 'O'\n",
    "        else:\n",
    "            player1 = 'X'    \n",
    "        action_play *= -1\n",
    "        \n",
    "    while game_on:\n",
    "        clear_output()\n",
    "        board_free = full_board_check(board_ref)\n",
    "#         print(board_ref)\n",
    "#         print(board_free)\n",
    "        if board_free == True:\n",
    "    #      Player 1 Turn\n",
    "            if action_play == -1:\n",
    "                print('player 1 turn')\n",
    "                display_board(board_ref)\n",
    "                p1_input = player_choice(board_ref)\n",
    "                place_marker(board_ref, player1, p1_input)\n",
    "                player1_result = win_check(board_ref, player1)\n",
    "                \n",
    "                if player1_result == True:\n",
    "                    display_board(board_ref)\n",
    "                    print('Player1 wins!!!')\n",
    "                    break\n",
    "                else:\n",
    "                    action_play *= -1\n",
    "                    \n",
    "\n",
    "    #      Player2's turn.            \n",
    "            elif action_play == 1:\n",
    "                print('player 2 turn')\n",
    "                display_board(board_ref)\n",
    "                p2_input = player_choice(board_ref)\n",
    "                place_marker(board_ref, player2, p2_input)\n",
    "                player2_result = win_check(board_ref, player2)\n",
    "                \n",
    "                if player2_result == True:\n",
    "                    display_board(board_ref)\n",
    "                    print('Player2 wins!!!')\n",
    "                    break\n",
    "                else:\n",
    "                    action_play *= -1\n",
    "                    \n",
    "        else:\n",
    "            display_board(board_ref)\n",
    "            print('Its a tie!!!')\n",
    "            break\n",
    "                \n",
    "\n",
    "    if not replay():\n",
    "        break"
   ],
   "outputs": [
    {
     "output_type": "stream",
     "name": "stdout",
     "text": [
      "   |   |   \n",
      "   | O |   \n",
      "   |   |   \n",
      "-----------\n",
      "   |   |   \n",
      " X | O | X \n",
      "   |   |   \n",
      "-----------\n",
      "   |   |   \n",
      " X | O |   \n",
      "   |   |   \n",
      "Player1 wins!!!\n"
     ]
    }
   ],
   "metadata": {}
  },
  {
   "cell_type": "markdown",
   "source": [
    "## Good Job!"
   ],
   "metadata": {
    "collapsed": true
   }
  }
 ],
 "metadata": {
  "kernelspec": {
   "name": "python3",
   "display_name": "Python 3.7.3 64-bit"
  },
  "language_info": {
   "codemirror_mode": {
    "name": "ipython",
    "version": 3
   },
   "file_extension": ".py",
   "mimetype": "text/x-python",
   "name": "python",
   "nbconvert_exporter": "python",
   "pygments_lexer": "ipython3",
   "version": "3.7.3"
  },
  "interpreter": {
   "hash": "aee8b7b246df8f9039afb4144a1f6fd8d2ca17a180786b69acc140d282b71a49"
  }
 },
 "nbformat": 4,
 "nbformat_minor": 1
}