{
 "cells": [
  {
   "cell_type": "markdown",
   "metadata": {},
   "source": [
    "___\n",
    "\n",
    "<a href='https://www.udemy.com/user/joseportilla/'><img src='../Pierian_Data_Logo.png'/></a>\n",
    "___\n",
    "<center><em>Content Copyright by Pierian Data</em></center>"
   ]
  },
  {
   "cell_type": "markdown",
   "metadata": {},
   "source": [
    "# Milestone Project 1: Walkthrough Steps Workbook\n",
    "\n",
    "Below is a set of steps for you to follow to try to create the Tic Tac Toe Milestone Project game!"
   ]
  },
  {
   "cell_type": "markdown",
   "metadata": {},
   "source": [
    "#### Some suggested tools before you get started:\n",
    "To take input from a user:\n",
    "\n",
    "    player1 = input(\"Please pick a marker 'X' or 'O'\")\n",
    "    \n",
    "Note that input() takes in a string. If you need an integer value, use\n",
    "\n",
    "    position = int(input('Please enter a number'))\n",
    "    \n",
    "<br>To clear the screen between moves:\n",
    "\n",
    "    from IPython.display import clear_output\n",
    "    clear_output()\n",
    "    \n",
    "Note that clear_output() will only work in jupyter. To clear the screen in other IDEs, consider:\n",
    "\n",
    "    print('\\n'*100)\n",
    "    \n",
    "This scrolls the previous board up out of view. Now on to the program!"
   ]
  },
  {
   "cell_type": "markdown",
   "metadata": {},
   "source": [
    "**Step 1: Write a function that can print out a board. Set up your board as a list, where each index 1-9 corresponds with a number on a number pad, so you get a 3 by 3 board representation.**"
   ]
  },
  {
   "cell_type": "code",
   "execution_count": 1,
   "metadata": {},
   "outputs": [],
   "source": [
    "from IPython.display import clear_output\n",
    "\n",
    "def display_board(board):\n",
    "    print('   |   |   ')\n",
    "    print(' '+board[1]+' | '+ board[2]+' | '+ board[3]+' ')\n",
    "    print('   |   |   ')\n",
    "    print(\"-----------\")\n",
    "    print('   |   |   ')\n",
    "    print(' '+board[4]+' | '+ board[5]+' | '+ board[6]+' ')\n",
    "    print('   |   |   ')\n",
    "    print(\"-----------\")\n",
    "    print('   |   |   ')\n",
    "    print(' '+board[7]+' | '+ board[8]+' | '+ board[9]+' ')\n",
    "    print('   |   |   ')"
   ]
  },
  {
   "cell_type": "markdown",
   "metadata": {},
   "source": [
    "**TEST Step 1:** run your function on a test version of the board list, and make adjustments as necessary"
   ]
  },
  {
   "cell_type": "code",
   "execution_count": 2,
   "metadata": {},
   "outputs": [
    {
     "name": "stdout",
     "output_type": "stream",
     "text": [
      "   |   |   \n",
      " X | O | X \n",
      "   |   |   \n",
      "-----------\n",
      "   |   |   \n",
      " O | X | O \n",
      "   |   |   \n",
      "-----------\n",
      "   |   |   \n",
      " X | O | X \n",
      "   |   |   \n"
     ]
    }
   ],
   "source": [
    "test_board = ['#','X','O','X','O','X','O','X','O','X']\n",
    "display_board(test_board)"
   ]
  },
  {
   "cell_type": "markdown",
   "metadata": {},
   "source": [
    "**Step 2: Write a function that can take in a player input and assign their marker as 'X' or 'O'. Think about using *while* loops to continually ask until you get a correct answer.**"
   ]
  },
  {
   "cell_type": "code",
   "execution_count": 3,
   "metadata": {},
   "outputs": [],
   "source": [
    "def player_input():\n",
    "    \n",
    "    choice = \"WRONG\"\n",
    "    within_range = False\n",
    "    \n",
    "    while choice.isdigit() == False or within_range == False:\n",
    "        choice = input(\"Please select your position range(1-9):\")\n",
    "        if choice.isdigit() == False:\n",
    "            clear_output()\n",
    "            print(\"Sorry, not a digit number!\")\n",
    "        \n",
    "        if choice.isdigit() == True:\n",
    "            if int(choice) in range(1,10):\n",
    "                within_range = True\n",
    "            else:\n",
    "                clear_output()\n",
    "                within_range = False\n",
    "                \n",
    "    return int(choice)\n",
    "    "
   ]
  },
  {
   "cell_type": "markdown",
   "metadata": {},
   "source": [
    "**TEST Step 2:** run the function to make sure it returns the desired output"
   ]
  },
  {
   "cell_type": "code",
   "execution_count": 4,
   "metadata": {},
   "outputs": [],
   "source": [
    "# player_input()"
   ]
  },
  {
   "cell_type": "markdown",
   "metadata": {},
   "source": [
    "**Step 3: Write a function that takes in the board list object, a marker ('X' or 'O'), and a desired position (number 1-9) and assigns it to the board.**"
   ]
  },
  {
   "cell_type": "code",
   "execution_count": 5,
   "metadata": {},
   "outputs": [],
   "source": [
    "def place_marker(board, marker, position):\n",
    "    board[position] = marker\n",
    "    return\n",
    "    \n",
    "    "
   ]
  },
  {
   "cell_type": "markdown",
   "metadata": {},
   "source": [
    "**TEST Step 3:** run the place marker function using test parameters and display the modified board"
   ]
  },
  {
   "cell_type": "code",
   "execution_count": 6,
   "metadata": {},
   "outputs": [],
   "source": [
    "# place_marker(test_board,'$',8)\n",
    "# display_board(test_board)"
   ]
  },
  {
   "cell_type": "markdown",
   "metadata": {},
   "source": [
    "**Step 4: Write a function that takes in a board and a mark (X or O) and then checks to see if that mark has won. **"
   ]
  },
  {
   "cell_type": "code",
   "execution_count": 7,
   "metadata": {},
   "outputs": [],
   "source": [
    "def win_check(board, mark):\n",
    "    \n",
    "    match_cols_one = 0\n",
    "    match_cols_two = 0\n",
    "    match_cols_three = 0\n",
    "    \n",
    "    match_rows_one = 0\n",
    "    match_rows_two = 0\n",
    "    match_rows_three = 0\n",
    "\n",
    "    match_dia_L = 0\n",
    "    match_dia_R = 0\n",
    "    \n",
    "\n",
    "    for i in board[1:4]:\n",
    "        if i == mark:\n",
    "            match_rows_one += 1\n",
    "                    \n",
    "    for i in board[4:7]:\n",
    "        if i == mark:\n",
    "            match_rows_two += 1\n",
    "\n",
    "    for i in board[7:10]:\n",
    "        if i == mark:\n",
    "            match_rows_three += 1                 \n",
    "\n",
    "    for i in board[1::3]:\n",
    "        if i == mark:\n",
    "            match_cols_one += 1\n",
    "\n",
    "    for i in board[2::3]:\n",
    "        if i == mark:\n",
    "            match_cols_two += 1\n",
    "\n",
    "    for i in board[3::3]:\n",
    "        if i == mark:\n",
    "            match_cols_three += 1\n",
    "\n",
    "    for i in board[1::4]:\n",
    "        if i == mark:\n",
    "            match_dia_L += 1\n",
    "\n",
    "    for i in board[3:7:2]:\n",
    "        if i == mark:\n",
    "            match_dia_R += 1\n",
    "                \n",
    "    if match_cols_one == 3 or match_cols_two == 3 or match_cols_three == 3 or match_dia_L == 3 or match_dia_R == 3 or match_rows_one == 3 or match_rows_two == 3 or match_rows_three == 3:\n",
    "       \n",
    "        return True\n",
    "    else:\n",
    "        return False\n",
    "\n",
    "    "
   ]
  },
  {
   "cell_type": "markdown",
   "metadata": {},
   "source": [
    "**TEST Step 4:** run the win_check function against our test_board - it should return True"
   ]
  },
  {
   "cell_type": "code",
   "execution_count": 8,
   "metadata": {},
   "outputs": [
    {
     "data": {
      "text/plain": [
       "False"
      ]
     },
     "execution_count": 8,
     "metadata": {},
     "output_type": "execute_result"
    }
   ],
   "source": [
    "board_ref = ['#','X',' ',' ','X','O',' ','O','X','O']\n",
    "win_check(board_ref,'O')"
   ]
  },
  {
   "cell_type": "markdown",
   "metadata": {},
   "source": [
    "**Step 5: Write a function that uses the random module to randomly decide which player goes first. You may want to lookup random.randint() Return a string of which player went first.**"
   ]
  },
  {
   "cell_type": "code",
   "execution_count": 9,
   "metadata": {},
   "outputs": [],
   "source": [
    "import random\n",
    "\n",
    "def choose_first():\n",
    "    player = ['player1', 'player2']\n",
    "    return random.choice(player)"
   ]
  },
  {
   "cell_type": "markdown",
   "metadata": {},
   "source": [
    "**Step 6: Write a function that returns a boolean indicating whether a space on the board is freely available.**"
   ]
  },
  {
   "cell_type": "code",
   "execution_count": 10,
   "metadata": {},
   "outputs": [],
   "source": [
    "def space_check(board, position):\n",
    "    if board[position] == \" \":\n",
    "        return True\n",
    "    else:\n",
    "        return False\n",
    "    "
   ]
  },
  {
   "cell_type": "markdown",
   "metadata": {},
   "source": [
    "**Step 7: Write a function that checks if the board is full and returns a boolean value. True if full, False otherwise.**"
   ]
  },
  {
   "cell_type": "code",
   "execution_count": 11,
   "metadata": {},
   "outputs": [],
   "source": [
    "def full_board_check(board):\n",
    "    if \" \" in board:\n",
    "        return True\n",
    "    else:\n",
    "        return False\n",
    "    "
   ]
  },
  {
   "cell_type": "code",
   "execution_count": 12,
   "metadata": {},
   "outputs": [],
   "source": [
    "# board_ref = ['#',' ',' ',' ',' ',' ',' ',' ',' ',' ']\n",
    "# print(full_board_check(board_ref))"
   ]
  },
  {
   "cell_type": "markdown",
   "metadata": {},
   "source": [
    "**Step 8: Write a function that asks for a player's next position (as a number 1-9) and then uses the function from step 6 to check if it's a free position. If it is, then return the position for later use.**"
   ]
  },
  {
   "cell_type": "code",
   "execution_count": 13,
   "metadata": {},
   "outputs": [],
   "source": [
    "def player_choice(board):\n",
    "    \n",
    "    pos_available = False\n",
    "    \n",
    "    while pos_available == False:\n",
    "        players_pos = player_input()\n",
    "        check = space_check(board, players_pos)\n",
    "        if check == True:\n",
    "            clear_output()\n",
    "            pos_available = True\n",
    "            \n",
    "            return players_pos\n",
    "        else:\n",
    "            clear_output()\n",
    "            print(\"no space available, choose another\")"
   ]
  },
  {
   "cell_type": "code",
   "execution_count": 14,
   "metadata": {},
   "outputs": [],
   "source": [
    "# player_choice(test_board)"
   ]
  },
  {
   "cell_type": "markdown",
   "metadata": {},
   "source": [
    "**Step 9: Write a function that asks the player if they want to play again and returns a boolean True if they do want to play again.**"
   ]
  },
  {
   "cell_type": "code",
   "execution_count": 15,
   "metadata": {},
   "outputs": [],
   "source": [
    "def replay():\n",
    "    choice = \"WRONG\"\n",
    "    response = ['Y', 'N']\n",
    "    \n",
    "    while choice not in response:\n",
    "        choice = input(\"Do you want to play again? \")\n",
    "        if choice not in response:\n",
    "            clear_output()\n",
    "            print ('Incorrect, please enter correct response!')\n",
    "        elif choice == 'Y':\n",
    "            return True\n",
    "        else:\n",
    "            return False"
   ]
  },
  {
   "cell_type": "code",
   "execution_count": 16,
   "metadata": {},
   "outputs": [],
   "source": [
    "# replay()"
   ]
  },
  {
   "cell_type": "markdown",
   "metadata": {
    "collapsed": true
   },
   "source": [
    "**Step 10: Here comes the hard part! Use while loops and the functions you've made to run the game!**"
   ]
  },
  {
   "cell_type": "code",
   "execution_count": null,
   "metadata": {},
   "outputs": [
    {
     "name": "stdout",
     "output_type": "stream",
     "text": [
      "   |   |   \n",
      " X | O | O \n",
      "   |   |   \n",
      "-----------\n",
      "   |   |   \n",
      " O | O | X \n",
      "   |   |   \n",
      "-----------\n",
      "   |   |   \n",
      " X | X | O \n",
      "   |   |   \n",
      "Its a tie!!!\n"
     ]
    }
   ],
   "source": [
    "print('Welcome to Tic Tac Toe!')\n",
    "\n",
    "\n",
    "game_on = True\n",
    "p1ayers_turn = -1\n",
    "player1 = ''\n",
    "player2 = ''\n",
    "action_play = -1\n",
    "\n",
    "while True:\n",
    "#     Set the game up here\n",
    "    board_ref = ['#',' ',' ',' ',' ',' ',' ',' ',' ',' ']\n",
    "    clear_output()\n",
    "    player_option = choose_first()\n",
    "    \n",
    "    if player_option == 'player1':\n",
    "        print('Player 1 starts')\n",
    "        player1 = input(\"Please pick a marker 'X' or 'O':\")\n",
    "        \n",
    "        if player1 == 'X':\n",
    "            player2 = 'O'\n",
    "        else:\n",
    "            player2 = 'X'\n",
    "        \n",
    "    if player_option == 'player2':\n",
    "        print('Player 2 starts')\n",
    "        player2 = input(\"Please pick a marker 'X' or 'O':\")\n",
    "        if player2 == 'X':\n",
    "            player1 = 'O'\n",
    "        else:\n",
    "            player1 = 'X'\n",
    "        \n",
    "        action_play *= -1\n",
    "        \n",
    "    while game_on:\n",
    "        clear_output()\n",
    "        board_free = full_board_check(board_ref)\n",
    "#         print(board_ref)\n",
    "#         print(board_free)\n",
    "        if board_free == True:\n",
    "    #      Player 1 Turn\n",
    "            if action_play == -1:\n",
    "                print('player 1 turn')\n",
    "                display_board(board_ref)\n",
    "                p1_input = player_choice(board_ref)\n",
    "                place_marker(board_ref, player1, p1_input)\n",
    "                player1_result = win_check(board_ref, player1)\n",
    "                \n",
    "                if player1_result == True:\n",
    "                    display_board(board_ref)\n",
    "                    print('Player1 wins!!!')\n",
    "                    break\n",
    "                else:\n",
    "                    action_play *= -1\n",
    "                    \n",
    "\n",
    "    #      Player2's turn.            \n",
    "            elif action_play == 1:\n",
    "                print('player 2 turn')\n",
    "                display_board(board_ref)\n",
    "                p2_input = player_choice(board_ref)\n",
    "                place_marker(board_ref, player2, p2_input)\n",
    "                player2_result = win_check(board_ref, player2)\n",
    "                \n",
    "                if player2_result == True:\n",
    "                    display_board(board_ref)\n",
    "                    print('Player2 wins!!!')\n",
    "                    break\n",
    "                else:\n",
    "                    action_play *= -1\n",
    "                    \n",
    "        else:\n",
    "            display_board(board_ref)\n",
    "            print('Its a tie!!!')\n",
    "            break\n",
    "                \n",
    "\n",
    "    if not replay():\n",
    "        break"
   ]
  },
  {
   "cell_type": "markdown",
   "metadata": {
    "collapsed": true
   },
   "source": [
    "## Good Job!"
   ]
  }
 ],
 "metadata": {
  "kernelspec": {
   "display_name": "Python 3",
   "language": "python",
   "name": "python3"
  },
  "language_info": {
   "codemirror_mode": {
    "name": "ipython",
    "version": 3
   },
   "file_extension": ".py",
   "mimetype": "text/x-python",
   "name": "python",
   "nbconvert_exporter": "python",
   "pygments_lexer": "ipython3",
   "version": "3.8.8"
  }
 },
 "nbformat": 4,
 "nbformat_minor": 1
}
